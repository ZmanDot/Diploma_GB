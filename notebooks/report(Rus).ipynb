{
  "nbformat": 4,
  "nbformat_minor": 0,
  "metadata": {
    "colab": {
      "provenance": [],
      "gpuType": "T4",
      "collapsed_sections": [
        "BTfrj_5cyqhw",
        "ZhIilueh5Dlg"
      ]
    },
    "kernelspec": {
      "name": "python3",
      "display_name": "Python 3"
    },
    "language_info": {
      "name": "python"
    },
    "accelerator": "GPU"
  },
  "cells": [
    {
      "cell_type": "markdown",
      "source": [
        "#Дипломная работа(практика)"
      ],
      "metadata": {
        "id": "rDnI5vYJymtH"
      }
    },
    {
      "cell_type": "markdown",
      "source": [
        "##Загрузка датасета с сайта OpenML"
      ],
      "metadata": {
        "id": "BTfrj_5cyqhw"
      }
    },
    {
      "cell_type": "markdown",
      "source": [
        "Скачиваем модуль для работы с объектами с сайта OpenML, модуль pyspark и модуль pandas для дальнейшей работы с датасетом"
      ],
      "metadata": {
        "id": "o2Z8CamhwZbX"
      }
    },
    {
      "cell_type": "markdown",
      "source": [
        "Используем `>> None` для того, чтобы не выводить инофрмацию об установке"
      ],
      "metadata": {
        "id": "vlaDCWqCwyNz"
      }
    },
    {
      "cell_type": "code",
      "execution_count": 1,
      "metadata": {
        "id": "CgetTRNCyjkU"
      },
      "outputs": [],
      "source": [
        "!pip install openml >> None\n",
        "!pip install pyspark >> None\n",
        "!pip install pandas >> None"
      ]
    },
    {
      "cell_type": "code",
      "source": [
        "import openml\n",
        "import pandas as pd\n",
        "from pyspark.sql import SparkSession\n",
        "from pyspark.sql.functions import col\n",
        "from pyspark import SparkContext, SparkConf\n",
        "\n",
        "# 45955 - id нужного датасета на сайте OpenML\n",
        "id = 45955\n",
        "\n",
        "# Загружаем датасет с сайта в объект dataset\n",
        "dataset = openml.datasets.get_dataset(id)\n",
        "\n",
        "print(type(dataset))\n",
        "\n",
        "# Переносим датасет из объекта OpenMLDataset\n",
        "df, _, _, _ = dataset.get_data(dataset_format=\"dataframe\")\n",
        "df = df.drop(columns='used_chip')"
      ],
      "metadata": {
        "id": "K5-uyPNZy1yc",
        "colab": {
          "base_uri": "https://localhost:8080/"
        },
        "outputId": "cfa76b15-4126-4671-d6b6-51cb4cfd7af2"
      },
      "execution_count": 2,
      "outputs": [
        {
          "output_type": "stream",
          "name": "stderr",
          "text": [
            "WARNING:openml:No permission to create OpenML directory at /root/.config/openml! This can result in OpenML-Python not working properly.\n"
          ]
        },
        {
          "output_type": "stream",
          "name": "stdout",
          "text": [
            "<class 'openml.datasets.dataset.OpenMLDataset'>\n"
          ]
        }
      ]
    },
    {
      "cell_type": "code",
      "source": [
        "conf = SparkConf().setAppName(\"FraudDetection\").setMaster(\"local[*]\")\n",
        "sc = SparkContext(conf=conf)\n",
        "\n",
        "spark = SparkSession.builder.getOrCreate()"
      ],
      "metadata": {
        "id": "PoSf6iWZ3eyl"
      },
      "execution_count": 3,
      "outputs": []
    },
    {
      "cell_type": "code",
      "source": [
        "spark_df = spark.createDataFrame(df)"
      ],
      "metadata": {
        "id": "mr-2fOed33Be"
      },
      "execution_count": 4,
      "outputs": []
    },
    {
      "cell_type": "markdown",
      "source": [
        "###Описание атрибутов:\n",
        "\n",
        "- distance_from_home: это числовой признак, представляющий географическое расстояние в километрах между местом транзакции и домашним адресом владельца карты.\n",
        "- distance_from_last_transaction: этот числовой атрибут измеряет расстояние в километрах от места последней транзакции до текущего местоположения транзакции.\n",
        "- Ratio_to_median_purchase_price: числовое соотношение, которое сравнивает цену транзакции со средней ценой покупки в истории транзакций пользователя.\n",
        "- повтор_ритейлер: двоичный атрибут, где «1» означает, что транзакция была проведена у розничного продавца, ранее использовавшегося держателем карты, а «0» указывает на нового розничного продавца.\n",
        "- Used_pin_number: еще одна двоичная функция, где «1» означает использование PIN-кода для транзакции, а «0» означает, что PIN-код не использовался.\n",
        "- online_order: этот атрибут определяет, была ли покупка совершена онлайн («1») или оффлайн («0»).\n",
        "- мошенничество: двоичная целевая переменная, указывающая, была ли транзакция мошеннической («1») или нет («0»)."
      ],
      "metadata": {
        "id": "O6SAwfHc1bs6"
      }
    },
    {
      "cell_type": "code",
      "source": [
        "# Выведем первые 5 строк, чтобы посмотреть структуру датасета\n",
        "df.head()"
      ],
      "metadata": {
        "colab": {
          "base_uri": "https://localhost:8080/",
          "height": 206
        },
        "id": "8tj0QZMuzZbm",
        "outputId": "951b40de-8c9b-48ef-c086-47186fa53909"
      },
      "execution_count": 5,
      "outputs": [
        {
          "output_type": "execute_result",
          "data": {
            "text/plain": [
              "   distance_from_home  distance_from_last_transaction  \\\n",
              "0           57.877857                        0.311140   \n",
              "1           10.829943                        0.175592   \n",
              "2            5.091079                        0.805153   \n",
              "3            2.247564                        5.600044   \n",
              "4           44.190936                        0.566486   \n",
              "\n",
              "   ratio_to_median_purchase_price  repeat_retailer  used_pin_number  \\\n",
              "0                        1.945940                1                0   \n",
              "1                        1.294219                1                0   \n",
              "2                        0.427715                1                0   \n",
              "3                        0.362663                1                0   \n",
              "4                        2.222767                1                0   \n",
              "\n",
              "   online_order  fraud  \n",
              "0             0      0  \n",
              "1             0      0  \n",
              "2             1      0  \n",
              "3             1      0  \n",
              "4             1      0  "
            ],
            "text/html": [
              "\n",
              "  <div id=\"df-3d1192a5-9734-4576-8551-128e3c6158e9\" class=\"colab-df-container\">\n",
              "    <div>\n",
              "<style scoped>\n",
              "    .dataframe tbody tr th:only-of-type {\n",
              "        vertical-align: middle;\n",
              "    }\n",
              "\n",
              "    .dataframe tbody tr th {\n",
              "        vertical-align: top;\n",
              "    }\n",
              "\n",
              "    .dataframe thead th {\n",
              "        text-align: right;\n",
              "    }\n",
              "</style>\n",
              "<table border=\"1\" class=\"dataframe\">\n",
              "  <thead>\n",
              "    <tr style=\"text-align: right;\">\n",
              "      <th></th>\n",
              "      <th>distance_from_home</th>\n",
              "      <th>distance_from_last_transaction</th>\n",
              "      <th>ratio_to_median_purchase_price</th>\n",
              "      <th>repeat_retailer</th>\n",
              "      <th>used_pin_number</th>\n",
              "      <th>online_order</th>\n",
              "      <th>fraud</th>\n",
              "    </tr>\n",
              "  </thead>\n",
              "  <tbody>\n",
              "    <tr>\n",
              "      <th>0</th>\n",
              "      <td>57.877857</td>\n",
              "      <td>0.311140</td>\n",
              "      <td>1.945940</td>\n",
              "      <td>1</td>\n",
              "      <td>0</td>\n",
              "      <td>0</td>\n",
              "      <td>0</td>\n",
              "    </tr>\n",
              "    <tr>\n",
              "      <th>1</th>\n",
              "      <td>10.829943</td>\n",
              "      <td>0.175592</td>\n",
              "      <td>1.294219</td>\n",
              "      <td>1</td>\n",
              "      <td>0</td>\n",
              "      <td>0</td>\n",
              "      <td>0</td>\n",
              "    </tr>\n",
              "    <tr>\n",
              "      <th>2</th>\n",
              "      <td>5.091079</td>\n",
              "      <td>0.805153</td>\n",
              "      <td>0.427715</td>\n",
              "      <td>1</td>\n",
              "      <td>0</td>\n",
              "      <td>1</td>\n",
              "      <td>0</td>\n",
              "    </tr>\n",
              "    <tr>\n",
              "      <th>3</th>\n",
              "      <td>2.247564</td>\n",
              "      <td>5.600044</td>\n",
              "      <td>0.362663</td>\n",
              "      <td>1</td>\n",
              "      <td>0</td>\n",
              "      <td>1</td>\n",
              "      <td>0</td>\n",
              "    </tr>\n",
              "    <tr>\n",
              "      <th>4</th>\n",
              "      <td>44.190936</td>\n",
              "      <td>0.566486</td>\n",
              "      <td>2.222767</td>\n",
              "      <td>1</td>\n",
              "      <td>0</td>\n",
              "      <td>1</td>\n",
              "      <td>0</td>\n",
              "    </tr>\n",
              "  </tbody>\n",
              "</table>\n",
              "</div>\n",
              "    <div class=\"colab-df-buttons\">\n",
              "\n",
              "  <div class=\"colab-df-container\">\n",
              "    <button class=\"colab-df-convert\" onclick=\"convertToInteractive('df-3d1192a5-9734-4576-8551-128e3c6158e9')\"\n",
              "            title=\"Convert this dataframe to an interactive table.\"\n",
              "            style=\"display:none;\">\n",
              "\n",
              "  <svg xmlns=\"http://www.w3.org/2000/svg\" height=\"24px\" viewBox=\"0 -960 960 960\">\n",
              "    <path d=\"M120-120v-720h720v720H120Zm60-500h600v-160H180v160Zm220 220h160v-160H400v160Zm0 220h160v-160H400v160ZM180-400h160v-160H180v160Zm440 0h160v-160H620v160ZM180-180h160v-160H180v160Zm440 0h160v-160H620v160Z\"/>\n",
              "  </svg>\n",
              "    </button>\n",
              "\n",
              "  <style>\n",
              "    .colab-df-container {\n",
              "      display:flex;\n",
              "      gap: 12px;\n",
              "    }\n",
              "\n",
              "    .colab-df-convert {\n",
              "      background-color: #E8F0FE;\n",
              "      border: none;\n",
              "      border-radius: 50%;\n",
              "      cursor: pointer;\n",
              "      display: none;\n",
              "      fill: #1967D2;\n",
              "      height: 32px;\n",
              "      padding: 0 0 0 0;\n",
              "      width: 32px;\n",
              "    }\n",
              "\n",
              "    .colab-df-convert:hover {\n",
              "      background-color: #E2EBFA;\n",
              "      box-shadow: 0px 1px 2px rgba(60, 64, 67, 0.3), 0px 1px 3px 1px rgba(60, 64, 67, 0.15);\n",
              "      fill: #174EA6;\n",
              "    }\n",
              "\n",
              "    .colab-df-buttons div {\n",
              "      margin-bottom: 4px;\n",
              "    }\n",
              "\n",
              "    [theme=dark] .colab-df-convert {\n",
              "      background-color: #3B4455;\n",
              "      fill: #D2E3FC;\n",
              "    }\n",
              "\n",
              "    [theme=dark] .colab-df-convert:hover {\n",
              "      background-color: #434B5C;\n",
              "      box-shadow: 0px 1px 3px 1px rgba(0, 0, 0, 0.15);\n",
              "      filter: drop-shadow(0px 1px 2px rgba(0, 0, 0, 0.3));\n",
              "      fill: #FFFFFF;\n",
              "    }\n",
              "  </style>\n",
              "\n",
              "    <script>\n",
              "      const buttonEl =\n",
              "        document.querySelector('#df-3d1192a5-9734-4576-8551-128e3c6158e9 button.colab-df-convert');\n",
              "      buttonEl.style.display =\n",
              "        google.colab.kernel.accessAllowed ? 'block' : 'none';\n",
              "\n",
              "      async function convertToInteractive(key) {\n",
              "        const element = document.querySelector('#df-3d1192a5-9734-4576-8551-128e3c6158e9');\n",
              "        const dataTable =\n",
              "          await google.colab.kernel.invokeFunction('convertToInteractive',\n",
              "                                                    [key], {});\n",
              "        if (!dataTable) return;\n",
              "\n",
              "        const docLinkHtml = 'Like what you see? Visit the ' +\n",
              "          '<a target=\"_blank\" href=https://colab.research.google.com/notebooks/data_table.ipynb>data table notebook</a>'\n",
              "          + ' to learn more about interactive tables.';\n",
              "        element.innerHTML = '';\n",
              "        dataTable['output_type'] = 'display_data';\n",
              "        await google.colab.output.renderOutput(dataTable, element);\n",
              "        const docLink = document.createElement('div');\n",
              "        docLink.innerHTML = docLinkHtml;\n",
              "        element.appendChild(docLink);\n",
              "      }\n",
              "    </script>\n",
              "  </div>\n",
              "\n",
              "\n",
              "<div id=\"df-9f199ab5-e2d0-437f-9913-9b20ac0e93c1\">\n",
              "  <button class=\"colab-df-quickchart\" onclick=\"quickchart('df-9f199ab5-e2d0-437f-9913-9b20ac0e93c1')\"\n",
              "            title=\"Suggest charts\"\n",
              "            style=\"display:none;\">\n",
              "\n",
              "<svg xmlns=\"http://www.w3.org/2000/svg\" height=\"24px\"viewBox=\"0 0 24 24\"\n",
              "     width=\"24px\">\n",
              "    <g>\n",
              "        <path d=\"M19 3H5c-1.1 0-2 .9-2 2v14c0 1.1.9 2 2 2h14c1.1 0 2-.9 2-2V5c0-1.1-.9-2-2-2zM9 17H7v-7h2v7zm4 0h-2V7h2v10zm4 0h-2v-4h2v4z\"/>\n",
              "    </g>\n",
              "</svg>\n",
              "  </button>\n",
              "\n",
              "<style>\n",
              "  .colab-df-quickchart {\n",
              "      --bg-color: #E8F0FE;\n",
              "      --fill-color: #1967D2;\n",
              "      --hover-bg-color: #E2EBFA;\n",
              "      --hover-fill-color: #174EA6;\n",
              "      --disabled-fill-color: #AAA;\n",
              "      --disabled-bg-color: #DDD;\n",
              "  }\n",
              "\n",
              "  [theme=dark] .colab-df-quickchart {\n",
              "      --bg-color: #3B4455;\n",
              "      --fill-color: #D2E3FC;\n",
              "      --hover-bg-color: #434B5C;\n",
              "      --hover-fill-color: #FFFFFF;\n",
              "      --disabled-bg-color: #3B4455;\n",
              "      --disabled-fill-color: #666;\n",
              "  }\n",
              "\n",
              "  .colab-df-quickchart {\n",
              "    background-color: var(--bg-color);\n",
              "    border: none;\n",
              "    border-radius: 50%;\n",
              "    cursor: pointer;\n",
              "    display: none;\n",
              "    fill: var(--fill-color);\n",
              "    height: 32px;\n",
              "    padding: 0;\n",
              "    width: 32px;\n",
              "  }\n",
              "\n",
              "  .colab-df-quickchart:hover {\n",
              "    background-color: var(--hover-bg-color);\n",
              "    box-shadow: 0 1px 2px rgba(60, 64, 67, 0.3), 0 1px 3px 1px rgba(60, 64, 67, 0.15);\n",
              "    fill: var(--button-hover-fill-color);\n",
              "  }\n",
              "\n",
              "  .colab-df-quickchart-complete:disabled,\n",
              "  .colab-df-quickchart-complete:disabled:hover {\n",
              "    background-color: var(--disabled-bg-color);\n",
              "    fill: var(--disabled-fill-color);\n",
              "    box-shadow: none;\n",
              "  }\n",
              "\n",
              "  .colab-df-spinner {\n",
              "    border: 2px solid var(--fill-color);\n",
              "    border-color: transparent;\n",
              "    border-bottom-color: var(--fill-color);\n",
              "    animation:\n",
              "      spin 1s steps(1) infinite;\n",
              "  }\n",
              "\n",
              "  @keyframes spin {\n",
              "    0% {\n",
              "      border-color: transparent;\n",
              "      border-bottom-color: var(--fill-color);\n",
              "      border-left-color: var(--fill-color);\n",
              "    }\n",
              "    20% {\n",
              "      border-color: transparent;\n",
              "      border-left-color: var(--fill-color);\n",
              "      border-top-color: var(--fill-color);\n",
              "    }\n",
              "    30% {\n",
              "      border-color: transparent;\n",
              "      border-left-color: var(--fill-color);\n",
              "      border-top-color: var(--fill-color);\n",
              "      border-right-color: var(--fill-color);\n",
              "    }\n",
              "    40% {\n",
              "      border-color: transparent;\n",
              "      border-right-color: var(--fill-color);\n",
              "      border-top-color: var(--fill-color);\n",
              "    }\n",
              "    60% {\n",
              "      border-color: transparent;\n",
              "      border-right-color: var(--fill-color);\n",
              "    }\n",
              "    80% {\n",
              "      border-color: transparent;\n",
              "      border-right-color: var(--fill-color);\n",
              "      border-bottom-color: var(--fill-color);\n",
              "    }\n",
              "    90% {\n",
              "      border-color: transparent;\n",
              "      border-bottom-color: var(--fill-color);\n",
              "    }\n",
              "  }\n",
              "</style>\n",
              "\n",
              "  <script>\n",
              "    async function quickchart(key) {\n",
              "      const quickchartButtonEl =\n",
              "        document.querySelector('#' + key + ' button');\n",
              "      quickchartButtonEl.disabled = true;  // To prevent multiple clicks.\n",
              "      quickchartButtonEl.classList.add('colab-df-spinner');\n",
              "      try {\n",
              "        const charts = await google.colab.kernel.invokeFunction(\n",
              "            'suggestCharts', [key], {});\n",
              "      } catch (error) {\n",
              "        console.error('Error during call to suggestCharts:', error);\n",
              "      }\n",
              "      quickchartButtonEl.classList.remove('colab-df-spinner');\n",
              "      quickchartButtonEl.classList.add('colab-df-quickchart-complete');\n",
              "    }\n",
              "    (() => {\n",
              "      let quickchartButtonEl =\n",
              "        document.querySelector('#df-9f199ab5-e2d0-437f-9913-9b20ac0e93c1 button');\n",
              "      quickchartButtonEl.style.display =\n",
              "        google.colab.kernel.accessAllowed ? 'block' : 'none';\n",
              "    })();\n",
              "  </script>\n",
              "</div>\n",
              "\n",
              "    </div>\n",
              "  </div>\n"
            ],
            "application/vnd.google.colaboratory.intrinsic+json": {
              "type": "dataframe",
              "variable_name": "df"
            }
          },
          "metadata": {},
          "execution_count": 5
        }
      ]
    },
    {
      "cell_type": "code",
      "source": [
        "# Со спарком сделаем то же самое\n",
        "spark_df.show(5)"
      ],
      "metadata": {
        "colab": {
          "base_uri": "https://localhost:8080/"
        },
        "id": "lfsKEdl91wV_",
        "outputId": "259fa518-cde1-49da-9c62-88f6f24721c6"
      },
      "execution_count": 6,
      "outputs": [
        {
          "output_type": "stream",
          "name": "stdout",
          "text": [
            "+------------------+------------------------------+------------------------------+---------------+---------------+------------+-----+\n",
            "|distance_from_home|distance_from_last_transaction|ratio_to_median_purchase_price|repeat_retailer|used_pin_number|online_order|fraud|\n",
            "+------------------+------------------------------+------------------------------+---------------+---------------+------------+-----+\n",
            "|     57.8778565839|                   0.311140008|            1.9459399776000001|              1|              0|           0|    0|\n",
            "|     10.8299426993|                  0.1755915023|            1.2942188105999999|              1|              0|           0|    0|\n",
            "|      5.0910794906|                  0.8051525946|                  0.4277145612|              1|              0|           1|    0|\n",
            "|      2.2475643283|                   5.600043547|                  0.3626625781|              1|              0|           1|    0|\n",
            "|     44.1909360026|                  0.5664862681|                  2.2227672978|              1|              0|           1|    0|\n",
            "+------------------+------------------------------+------------------------------+---------------+---------------+------------+-----+\n",
            "only showing top 5 rows\n",
            "\n"
          ]
        }
      ]
    },
    {
      "cell_type": "markdown",
      "source": [
        "## Обработка данных и EDA"
      ],
      "metadata": {
        "id": "ZhIilueh5Dlg"
      }
    },
    {
      "cell_type": "code",
      "source": [
        "import matplotlib.pyplot as plt\n",
        "import seaborn as sns"
      ],
      "metadata": {
        "id": "aX1KPFcr7yO_"
      },
      "execution_count": 7,
      "outputs": []
    },
    {
      "cell_type": "code",
      "source": [
        "# Выведем инофрмацию о типах значений в полях, пропущенных значениях\n",
        "df.info()"
      ],
      "metadata": {
        "colab": {
          "base_uri": "https://localhost:8080/"
        },
        "id": "ere5ovKq5HIZ",
        "outputId": "225b278b-f6b8-4986-ecfa-818c1da31ebd"
      },
      "execution_count": 8,
      "outputs": [
        {
          "output_type": "stream",
          "name": "stdout",
          "text": [
            "<class 'pandas.core.frame.DataFrame'>\n",
            "RangeIndex: 1000000 entries, 0 to 999999\n",
            "Data columns (total 7 columns):\n",
            " #   Column                          Non-Null Count    Dtype  \n",
            "---  ------                          --------------    -----  \n",
            " 0   distance_from_home              1000000 non-null  float64\n",
            " 1   distance_from_last_transaction  1000000 non-null  float64\n",
            " 2   ratio_to_median_purchase_price  1000000 non-null  float64\n",
            " 3   repeat_retailer                 1000000 non-null  uint8  \n",
            " 4   used_pin_number                 1000000 non-null  uint8  \n",
            " 5   online_order                    1000000 non-null  uint8  \n",
            " 6   fraud                           1000000 non-null  uint8  \n",
            "dtypes: float64(3), uint8(4)\n",
            "memory usage: 26.7 MB\n"
          ]
        }
      ]
    },
    {
      "cell_type": "markdown",
      "source": [
        "**Пропущенных значений нет**"
      ],
      "metadata": {
        "id": "10Y7OGhvLFOS"
      }
    },
    {
      "cell_type": "code",
      "source": [
        "# Выведем статистику по каждому столбцу(минимальное, максимальное, среднее значения, перцентили)\n",
        "df.describe()"
      ],
      "metadata": {
        "colab": {
          "base_uri": "https://localhost:8080/",
          "height": 300
        },
        "id": "UU0MAwOr5LT0",
        "outputId": "efa388f7-907d-401f-a2f8-80874b40e2d4"
      },
      "execution_count": 9,
      "outputs": [
        {
          "output_type": "execute_result",
          "data": {
            "text/plain": [
              "       distance_from_home  distance_from_last_transaction  \\\n",
              "count      1000000.000000                  1000000.000000   \n",
              "mean            26.628792                        5.036519   \n",
              "std             65.390784                       25.843093   \n",
              "min              0.004874                        0.000118   \n",
              "25%              3.878008                        0.296671   \n",
              "50%              9.967760                        0.998650   \n",
              "75%             25.743985                        3.355748   \n",
              "max          10632.723672                    11851.104565   \n",
              "\n",
              "       ratio_to_median_purchase_price  repeat_retailer  used_pin_number  \\\n",
              "count                  1000000.000000   1000000.000000   1000000.000000   \n",
              "mean                         1.824182         0.881536         0.100608   \n",
              "std                          2.799589         0.323157         0.300809   \n",
              "min                          0.004399         0.000000         0.000000   \n",
              "25%                          0.475673         1.000000         0.000000   \n",
              "50%                          0.997717         1.000000         0.000000   \n",
              "75%                          2.096370         1.000000         0.000000   \n",
              "max                        267.802942         1.000000         1.000000   \n",
              "\n",
              "         online_order           fraud  \n",
              "count  1000000.000000  1000000.000000  \n",
              "mean         0.650552        0.087403  \n",
              "std          0.476796        0.282425  \n",
              "min          0.000000        0.000000  \n",
              "25%          0.000000        0.000000  \n",
              "50%          1.000000        0.000000  \n",
              "75%          1.000000        0.000000  \n",
              "max          1.000000        1.000000  "
            ],
            "text/html": [
              "\n",
              "  <div id=\"df-a631f4d2-b7ae-4659-a5ca-82824a41ea17\" class=\"colab-df-container\">\n",
              "    <div>\n",
              "<style scoped>\n",
              "    .dataframe tbody tr th:only-of-type {\n",
              "        vertical-align: middle;\n",
              "    }\n",
              "\n",
              "    .dataframe tbody tr th {\n",
              "        vertical-align: top;\n",
              "    }\n",
              "\n",
              "    .dataframe thead th {\n",
              "        text-align: right;\n",
              "    }\n",
              "</style>\n",
              "<table border=\"1\" class=\"dataframe\">\n",
              "  <thead>\n",
              "    <tr style=\"text-align: right;\">\n",
              "      <th></th>\n",
              "      <th>distance_from_home</th>\n",
              "      <th>distance_from_last_transaction</th>\n",
              "      <th>ratio_to_median_purchase_price</th>\n",
              "      <th>repeat_retailer</th>\n",
              "      <th>used_pin_number</th>\n",
              "      <th>online_order</th>\n",
              "      <th>fraud</th>\n",
              "    </tr>\n",
              "  </thead>\n",
              "  <tbody>\n",
              "    <tr>\n",
              "      <th>count</th>\n",
              "      <td>1000000.000000</td>\n",
              "      <td>1000000.000000</td>\n",
              "      <td>1000000.000000</td>\n",
              "      <td>1000000.000000</td>\n",
              "      <td>1000000.000000</td>\n",
              "      <td>1000000.000000</td>\n",
              "      <td>1000000.000000</td>\n",
              "    </tr>\n",
              "    <tr>\n",
              "      <th>mean</th>\n",
              "      <td>26.628792</td>\n",
              "      <td>5.036519</td>\n",
              "      <td>1.824182</td>\n",
              "      <td>0.881536</td>\n",
              "      <td>0.100608</td>\n",
              "      <td>0.650552</td>\n",
              "      <td>0.087403</td>\n",
              "    </tr>\n",
              "    <tr>\n",
              "      <th>std</th>\n",
              "      <td>65.390784</td>\n",
              "      <td>25.843093</td>\n",
              "      <td>2.799589</td>\n",
              "      <td>0.323157</td>\n",
              "      <td>0.300809</td>\n",
              "      <td>0.476796</td>\n",
              "      <td>0.282425</td>\n",
              "    </tr>\n",
              "    <tr>\n",
              "      <th>min</th>\n",
              "      <td>0.004874</td>\n",
              "      <td>0.000118</td>\n",
              "      <td>0.004399</td>\n",
              "      <td>0.000000</td>\n",
              "      <td>0.000000</td>\n",
              "      <td>0.000000</td>\n",
              "      <td>0.000000</td>\n",
              "    </tr>\n",
              "    <tr>\n",
              "      <th>25%</th>\n",
              "      <td>3.878008</td>\n",
              "      <td>0.296671</td>\n",
              "      <td>0.475673</td>\n",
              "      <td>1.000000</td>\n",
              "      <td>0.000000</td>\n",
              "      <td>0.000000</td>\n",
              "      <td>0.000000</td>\n",
              "    </tr>\n",
              "    <tr>\n",
              "      <th>50%</th>\n",
              "      <td>9.967760</td>\n",
              "      <td>0.998650</td>\n",
              "      <td>0.997717</td>\n",
              "      <td>1.000000</td>\n",
              "      <td>0.000000</td>\n",
              "      <td>1.000000</td>\n",
              "      <td>0.000000</td>\n",
              "    </tr>\n",
              "    <tr>\n",
              "      <th>75%</th>\n",
              "      <td>25.743985</td>\n",
              "      <td>3.355748</td>\n",
              "      <td>2.096370</td>\n",
              "      <td>1.000000</td>\n",
              "      <td>0.000000</td>\n",
              "      <td>1.000000</td>\n",
              "      <td>0.000000</td>\n",
              "    </tr>\n",
              "    <tr>\n",
              "      <th>max</th>\n",
              "      <td>10632.723672</td>\n",
              "      <td>11851.104565</td>\n",
              "      <td>267.802942</td>\n",
              "      <td>1.000000</td>\n",
              "      <td>1.000000</td>\n",
              "      <td>1.000000</td>\n",
              "      <td>1.000000</td>\n",
              "    </tr>\n",
              "  </tbody>\n",
              "</table>\n",
              "</div>\n",
              "    <div class=\"colab-df-buttons\">\n",
              "\n",
              "  <div class=\"colab-df-container\">\n",
              "    <button class=\"colab-df-convert\" onclick=\"convertToInteractive('df-a631f4d2-b7ae-4659-a5ca-82824a41ea17')\"\n",
              "            title=\"Convert this dataframe to an interactive table.\"\n",
              "            style=\"display:none;\">\n",
              "\n",
              "  <svg xmlns=\"http://www.w3.org/2000/svg\" height=\"24px\" viewBox=\"0 -960 960 960\">\n",
              "    <path d=\"M120-120v-720h720v720H120Zm60-500h600v-160H180v160Zm220 220h160v-160H400v160Zm0 220h160v-160H400v160ZM180-400h160v-160H180v160Zm440 0h160v-160H620v160ZM180-180h160v-160H180v160Zm440 0h160v-160H620v160Z\"/>\n",
              "  </svg>\n",
              "    </button>\n",
              "\n",
              "  <style>\n",
              "    .colab-df-container {\n",
              "      display:flex;\n",
              "      gap: 12px;\n",
              "    }\n",
              "\n",
              "    .colab-df-convert {\n",
              "      background-color: #E8F0FE;\n",
              "      border: none;\n",
              "      border-radius: 50%;\n",
              "      cursor: pointer;\n",
              "      display: none;\n",
              "      fill: #1967D2;\n",
              "      height: 32px;\n",
              "      padding: 0 0 0 0;\n",
              "      width: 32px;\n",
              "    }\n",
              "\n",
              "    .colab-df-convert:hover {\n",
              "      background-color: #E2EBFA;\n",
              "      box-shadow: 0px 1px 2px rgba(60, 64, 67, 0.3), 0px 1px 3px 1px rgba(60, 64, 67, 0.15);\n",
              "      fill: #174EA6;\n",
              "    }\n",
              "\n",
              "    .colab-df-buttons div {\n",
              "      margin-bottom: 4px;\n",
              "    }\n",
              "\n",
              "    [theme=dark] .colab-df-convert {\n",
              "      background-color: #3B4455;\n",
              "      fill: #D2E3FC;\n",
              "    }\n",
              "\n",
              "    [theme=dark] .colab-df-convert:hover {\n",
              "      background-color: #434B5C;\n",
              "      box-shadow: 0px 1px 3px 1px rgba(0, 0, 0, 0.15);\n",
              "      filter: drop-shadow(0px 1px 2px rgba(0, 0, 0, 0.3));\n",
              "      fill: #FFFFFF;\n",
              "    }\n",
              "  </style>\n",
              "\n",
              "    <script>\n",
              "      const buttonEl =\n",
              "        document.querySelector('#df-a631f4d2-b7ae-4659-a5ca-82824a41ea17 button.colab-df-convert');\n",
              "      buttonEl.style.display =\n",
              "        google.colab.kernel.accessAllowed ? 'block' : 'none';\n",
              "\n",
              "      async function convertToInteractive(key) {\n",
              "        const element = document.querySelector('#df-a631f4d2-b7ae-4659-a5ca-82824a41ea17');\n",
              "        const dataTable =\n",
              "          await google.colab.kernel.invokeFunction('convertToInteractive',\n",
              "                                                    [key], {});\n",
              "        if (!dataTable) return;\n",
              "\n",
              "        const docLinkHtml = 'Like what you see? Visit the ' +\n",
              "          '<a target=\"_blank\" href=https://colab.research.google.com/notebooks/data_table.ipynb>data table notebook</a>'\n",
              "          + ' to learn more about interactive tables.';\n",
              "        element.innerHTML = '';\n",
              "        dataTable['output_type'] = 'display_data';\n",
              "        await google.colab.output.renderOutput(dataTable, element);\n",
              "        const docLink = document.createElement('div');\n",
              "        docLink.innerHTML = docLinkHtml;\n",
              "        element.appendChild(docLink);\n",
              "      }\n",
              "    </script>\n",
              "  </div>\n",
              "\n",
              "\n",
              "<div id=\"df-b78024d7-a623-43fc-89a9-deb73fdd60d7\">\n",
              "  <button class=\"colab-df-quickchart\" onclick=\"quickchart('df-b78024d7-a623-43fc-89a9-deb73fdd60d7')\"\n",
              "            title=\"Suggest charts\"\n",
              "            style=\"display:none;\">\n",
              "\n",
              "<svg xmlns=\"http://www.w3.org/2000/svg\" height=\"24px\"viewBox=\"0 0 24 24\"\n",
              "     width=\"24px\">\n",
              "    <g>\n",
              "        <path d=\"M19 3H5c-1.1 0-2 .9-2 2v14c0 1.1.9 2 2 2h14c1.1 0 2-.9 2-2V5c0-1.1-.9-2-2-2zM9 17H7v-7h2v7zm4 0h-2V7h2v10zm4 0h-2v-4h2v4z\"/>\n",
              "    </g>\n",
              "</svg>\n",
              "  </button>\n",
              "\n",
              "<style>\n",
              "  .colab-df-quickchart {\n",
              "      --bg-color: #E8F0FE;\n",
              "      --fill-color: #1967D2;\n",
              "      --hover-bg-color: #E2EBFA;\n",
              "      --hover-fill-color: #174EA6;\n",
              "      --disabled-fill-color: #AAA;\n",
              "      --disabled-bg-color: #DDD;\n",
              "  }\n",
              "\n",
              "  [theme=dark] .colab-df-quickchart {\n",
              "      --bg-color: #3B4455;\n",
              "      --fill-color: #D2E3FC;\n",
              "      --hover-bg-color: #434B5C;\n",
              "      --hover-fill-color: #FFFFFF;\n",
              "      --disabled-bg-color: #3B4455;\n",
              "      --disabled-fill-color: #666;\n",
              "  }\n",
              "\n",
              "  .colab-df-quickchart {\n",
              "    background-color: var(--bg-color);\n",
              "    border: none;\n",
              "    border-radius: 50%;\n",
              "    cursor: pointer;\n",
              "    display: none;\n",
              "    fill: var(--fill-color);\n",
              "    height: 32px;\n",
              "    padding: 0;\n",
              "    width: 32px;\n",
              "  }\n",
              "\n",
              "  .colab-df-quickchart:hover {\n",
              "    background-color: var(--hover-bg-color);\n",
              "    box-shadow: 0 1px 2px rgba(60, 64, 67, 0.3), 0 1px 3px 1px rgba(60, 64, 67, 0.15);\n",
              "    fill: var(--button-hover-fill-color);\n",
              "  }\n",
              "\n",
              "  .colab-df-quickchart-complete:disabled,\n",
              "  .colab-df-quickchart-complete:disabled:hover {\n",
              "    background-color: var(--disabled-bg-color);\n",
              "    fill: var(--disabled-fill-color);\n",
              "    box-shadow: none;\n",
              "  }\n",
              "\n",
              "  .colab-df-spinner {\n",
              "    border: 2px solid var(--fill-color);\n",
              "    border-color: transparent;\n",
              "    border-bottom-color: var(--fill-color);\n",
              "    animation:\n",
              "      spin 1s steps(1) infinite;\n",
              "  }\n",
              "\n",
              "  @keyframes spin {\n",
              "    0% {\n",
              "      border-color: transparent;\n",
              "      border-bottom-color: var(--fill-color);\n",
              "      border-left-color: var(--fill-color);\n",
              "    }\n",
              "    20% {\n",
              "      border-color: transparent;\n",
              "      border-left-color: var(--fill-color);\n",
              "      border-top-color: var(--fill-color);\n",
              "    }\n",
              "    30% {\n",
              "      border-color: transparent;\n",
              "      border-left-color: var(--fill-color);\n",
              "      border-top-color: var(--fill-color);\n",
              "      border-right-color: var(--fill-color);\n",
              "    }\n",
              "    40% {\n",
              "      border-color: transparent;\n",
              "      border-right-color: var(--fill-color);\n",
              "      border-top-color: var(--fill-color);\n",
              "    }\n",
              "    60% {\n",
              "      border-color: transparent;\n",
              "      border-right-color: var(--fill-color);\n",
              "    }\n",
              "    80% {\n",
              "      border-color: transparent;\n",
              "      border-right-color: var(--fill-color);\n",
              "      border-bottom-color: var(--fill-color);\n",
              "    }\n",
              "    90% {\n",
              "      border-color: transparent;\n",
              "      border-bottom-color: var(--fill-color);\n",
              "    }\n",
              "  }\n",
              "</style>\n",
              "\n",
              "  <script>\n",
              "    async function quickchart(key) {\n",
              "      const quickchartButtonEl =\n",
              "        document.querySelector('#' + key + ' button');\n",
              "      quickchartButtonEl.disabled = true;  // To prevent multiple clicks.\n",
              "      quickchartButtonEl.classList.add('colab-df-spinner');\n",
              "      try {\n",
              "        const charts = await google.colab.kernel.invokeFunction(\n",
              "            'suggestCharts', [key], {});\n",
              "      } catch (error) {\n",
              "        console.error('Error during call to suggestCharts:', error);\n",
              "      }\n",
              "      quickchartButtonEl.classList.remove('colab-df-spinner');\n",
              "      quickchartButtonEl.classList.add('colab-df-quickchart-complete');\n",
              "    }\n",
              "    (() => {\n",
              "      let quickchartButtonEl =\n",
              "        document.querySelector('#df-b78024d7-a623-43fc-89a9-deb73fdd60d7 button');\n",
              "      quickchartButtonEl.style.display =\n",
              "        google.colab.kernel.accessAllowed ? 'block' : 'none';\n",
              "    })();\n",
              "  </script>\n",
              "</div>\n",
              "\n",
              "    </div>\n",
              "  </div>\n"
            ],
            "application/vnd.google.colaboratory.intrinsic+json": {
              "type": "dataframe",
              "summary": "{\n  \"name\": \"df\",\n  \"rows\": 8,\n  \"fields\": [\n    {\n      \"column\": \"distance_from_home\",\n      \"properties\": {\n        \"dtype\": \"number\",\n        \"std\": 353029.23639239033,\n        \"min\": 0.004874385,\n        \"max\": 1000000.0,\n        \"num_unique_values\": 8,\n        \"samples\": [\n          26.628792192571677,\n          9.9677600787,\n          1000000.0\n        ],\n        \"semantic_type\": \"\",\n        \"description\": \"\"\n      }\n    },\n    {\n      \"column\": \"distance_from_last_transaction\",\n      \"properties\": {\n        \"dtype\": \"number\",\n        \"std\": 352977.36249376147,\n        \"min\": 0.000118282,\n        \"max\": 1000000.0,\n        \"num_unique_values\": 8,\n        \"samples\": [\n          5.036519397861467,\n          0.9986501239500001,\n          1000000.0\n        ],\n        \"semantic_type\": \"\",\n        \"description\": \"\"\n      }\n    },\n    {\n      \"column\": \"ratio_to_median_purchase_price\",\n      \"properties\": {\n        \"dtype\": \"number\",\n        \"std\": 353539.4627386899,\n        \"min\": 0.0043992400000000004,\n        \"max\": 1000000.0,\n        \"num_unique_values\": 8,\n        \"samples\": [\n          1.8241819784045992,\n          0.9977169368500001,\n          1000000.0\n        ],\n        \"semantic_type\": \"\",\n        \"description\": \"\"\n      }\n    },\n    {\n      \"column\": \"repeat_retailer\",\n      \"properties\": {\n        \"dtype\": \"number\",\n        \"std\": 353553.12771678914,\n        \"min\": 0.0,\n        \"max\": 1000000.0,\n        \"num_unique_values\": 5,\n        \"samples\": [\n          0.881536,\n          1.0,\n          0.3231569048223868\n        ],\n        \"semantic_type\": \"\",\n        \"description\": \"\"\n      }\n    },\n    {\n      \"column\": \"used_pin_number\",\n      \"properties\": {\n        \"dtype\": \"number\",\n        \"std\": 353553.3198111865,\n        \"min\": 0.0,\n        \"max\": 1000000.0,\n        \"num_unique_values\": 5,\n        \"samples\": [\n          0.100608,\n          1.0,\n          0.30080911027115\n        ],\n        \"semantic_type\": \"\",\n        \"description\": \"\"\n      }\n    },\n    {\n      \"column\": \"online_order\",\n      \"properties\": {\n        \"dtype\": \"number\",\n        \"std\": 353553.1821309709,\n        \"min\": 0.0,\n        \"max\": 1000000.0,\n        \"num_unique_values\": 5,\n        \"samples\": [\n          0.650552,\n          1.0,\n          0.4767958920023563\n        ],\n        \"semantic_type\": \"\",\n        \"description\": \"\"\n      }\n    },\n    {\n      \"column\": \"fraud\",\n      \"properties\": {\n        \"dtype\": \"number\",\n        \"std\": 353553.321406685,\n        \"min\": 0.0,\n        \"max\": 1000000.0,\n        \"num_unique_values\": 5,\n        \"samples\": [\n          0.087403,\n          1.0,\n          0.2824248490391653\n        ],\n        \"semantic_type\": \"\",\n        \"description\": \"\"\n      }\n    }\n  ]\n}"
            }
          },
          "metadata": {},
          "execution_count": 9
        }
      ]
    },
    {
      "cell_type": "markdown",
      "source": [
        "**Из полученных данных видно, что ни один столбец не обладает аномалиями(дистанция не отрицательна, отношения положительно, последние колонки принимают лишь значения 0 и 1)**"
      ],
      "metadata": {
        "id": "pFWT4i9sLZhV"
      }
    },
    {
      "cell_type": "code",
      "source": [
        "# Выведем boxplot распредления расстояния от дома\n",
        "sns.boxplot(x=df['distance_from_home'])\n",
        "plt.title('Распределение расстояния от дома')\n",
        "plt.xlabel('Расстояние от дома')\n",
        "plt.ylabel('Частота')\n",
        "plt.show()"
      ],
      "metadata": {
        "colab": {
          "base_uri": "https://localhost:8080/",
          "height": 472
        },
        "id": "QSw6z1MVABDI",
        "outputId": "08cda7f5-61ca-4320-f1d1-7a62c34a0799"
      },
      "execution_count": 10,
      "outputs": [
        {
          "output_type": "display_data",
          "data": {
            "text/plain": [
              "<Figure size 640x480 with 1 Axes>"
            ],
            "image/png": "[encoded data removed]"
          },
          "metadata": {}
        }
      ]
    },
    {
      "cell_type": "code",
      "source": [
        "# Выведем boxplot распредления расстояния от последней транзакции\n",
        "sns.boxplot(x=df['distance_from_last_transaction'])\n",
        "plt.title('Распределение расстояния от последней транзакции')\n",
        "plt.xlabel('Расстояние от последней транзакции')\n",
        "plt.ylabel('Частота')\n",
        "plt.show()"
      ],
      "metadata": {
        "colab": {
          "base_uri": "https://localhost:8080/",
          "height": 472
        },
        "id": "A6hsVIcN-qWN",
        "outputId": "b4847037-6dac-40c8-a1a4-10597c8ca02f"
      },
      "execution_count": 11,
      "outputs": [
        {
          "output_type": "display_data",
          "data": {
            "text/plain": [
              "<Figure size 640x480 with 1 Axes>"
            ],
            "image/png": "[encoded data removed]"
          },
          "metadata": {}
        }
      ]
    },
    {
      "cell_type": "code",
      "source": [
        "# Выведем boxplot распредления расстояния от последней транзакции\n",
        "sns.boxplot(x=df['ratio_to_median_purchase_price'])\n",
        "plt.title('Распределение отношения стоимости покупки к средней цене покупки')\n",
        "plt.xlabel('Отношение стоимости покупки к средней цене покупки')\n",
        "plt.ylabel('Частота')\n",
        "plt.show()"
      ],
      "metadata": {
        "colab": {
          "base_uri": "https://localhost:8080/",
          "height": 472
        },
        "id": "djt90mF2U7qN",
        "outputId": "296227f2-1038-49ea-eb75-9015d3281314"
      },
      "execution_count": 12,
      "outputs": [
        {
          "output_type": "display_data",
          "data": {
            "text/plain": [
              "<Figure size 640x480 with 1 Axes>"
            ],
            "image/png": "[encoded data removed]"
          },
          "metadata": {}
        }
      ]
    },
    {
      "cell_type": "markdown",
      "source": [
        "**Из полученных данных видно, что распределение имеет длинный правый хвост**\n",
        "\n",
        "Мы можем попытаться \"обрезать\" этот хвост по правилу трёх сигм или по перцентилям, однако мы можем потерять важные для дальнейшего обучения модели данные."
      ],
      "metadata": {
        "id": "bzEDxlhoL_VV"
      }
    },
    {
      "cell_type": "code",
      "source": [
        "import numpy as np\n",
        "# Вместо \"обрезания\" хвоста воспользуемся преобразованием данных, используя натуральный логорифм\n",
        "# Такое преобразование поможет сохранить все данные и избавит от больших чисел\n",
        "df_ln = df[['distance_from_home','distance_from_last_transaction', 'ratio_to_median_purchase_price']].map(lambda x: np.log(x))\n",
        "df_ln = pd.concat([df_ln,df[['repeat_retailer','used_pin_number','online_order','fraud']]],axis=1)"
      ],
      "metadata": {
        "id": "qOmcENnu9RT2"
      },
      "execution_count": 13,
      "outputs": []
    },
    {
      "cell_type": "code",
      "source": [
        "# Выведем boxplot распредления расстояния от дома после log-преобразования\n",
        "sns.boxplot(x=df_ln['distance_from_home'])\n",
        "plt.title('Распределение расстояния от дома ln()')\n",
        "plt.xlabel('Расстояние от дома')\n",
        "plt.ylabel('Частота')\n",
        "plt.show()"
      ],
      "metadata": {
        "colab": {
          "base_uri": "https://localhost:8080/",
          "height": 472
        },
        "id": "xs4GLqWJ9q33",
        "outputId": "b6af37eb-5180-4301-a738-69cd37d64f75"
      },
      "execution_count": 14,
      "outputs": [
        {
          "output_type": "display_data",
          "data": {
            "text/plain": [
              "<Figure size 640x480 with 1 Axes>"
            ],
            "image/png": "[encoded data removed]"
          },
          "metadata": {}
        }
      ]
    },
    {
      "cell_type": "code",
      "source": [
        "# Выведем boxplot распредления расстояния от последней транзакции после log-преобразования\n",
        "sns.boxplot(x=df_ln['distance_from_last_transaction'])\n",
        "plt.title('Распределение расстояния от последней транзакции ln()')\n",
        "plt.xlabel('Расстояние от последней транзакции')\n",
        "plt.ylabel('Частота')\n",
        "plt.show()"
      ],
      "metadata": {
        "colab": {
          "base_uri": "https://localhost:8080/",
          "height": 472
        },
        "id": "q05J_emR-faQ",
        "outputId": "d464d2a1-13d0-4563-aa9e-ec16ca0711db"
      },
      "execution_count": 15,
      "outputs": [
        {
          "output_type": "display_data",
          "data": {
            "text/plain": [
              "<Figure size 640x480 with 1 Axes>"
            ],
            "image/png": "[encoded data removed]"
          },
          "metadata": {}
        }
      ]
    },
    {
      "cell_type": "code",
      "source": [
        "# Выведем boxplot распредления расстояния от последней транзакции\n",
        "sns.boxplot(x=df_ln['ratio_to_median_purchase_price'])\n",
        "plt.title('Распределение отношения стоимости покупки к средней цене покупки ln()')\n",
        "plt.xlabel('Отношение стоимости покупки к средней цене покупки')\n",
        "plt.ylabel('Частота')\n",
        "plt.show()"
      ],
      "metadata": {
        "colab": {
          "base_uri": "https://localhost:8080/",
          "height": 472
        },
        "id": "oMZvSCt1VRSF",
        "outputId": "04632026-c6ac-44e1-8c69-9619aa489e0a"
      },
      "execution_count": 16,
      "outputs": [
        {
          "output_type": "display_data",
          "data": {
            "text/plain": [
              "<Figure size 640x480 with 1 Axes>"
            ],
            "image/png": "[encoded data removed]"
          },
          "metadata": {}
        }
      ]
    },
    {
      "cell_type": "markdown",
      "source": [
        "**Из полученных данных стало видно, что теперь все данные лучше локализованы, и распределение не имеет такие большие выбросы**"
      ],
      "metadata": {
        "id": "imf_7daJNIxV"
      }
    },
    {
      "cell_type": "code",
      "source": [
        "import pyspark.sql.functions as F\n",
        "fraud_count_depends_on_online = spark_df.select('online_order','fraud').groupBy('online_order','fraud').agg(F.count('fraud').alias('count'))\n",
        "fraud_count_depends_on_online.show()"
      ],
      "metadata": {
        "colab": {
          "base_uri": "https://localhost:8080/"
        },
        "id": "uZsKYJNQOcWk",
        "outputId": "aa37bb93-f727-4d04-c5ec-2b018c124673"
      },
      "execution_count": 17,
      "outputs": [
        {
          "output_type": "stream",
          "name": "stdout",
          "text": [
            "+------------+-----+------+\n",
            "|online_order|fraud| count|\n",
            "+------------+-----+------+\n",
            "|           1|    0|567841|\n",
            "|           1|    1| 82711|\n",
            "|           0|    1|  4692|\n",
            "|           0|    0|344756|\n",
            "+------------+-----+------+\n",
            "\n"
          ]
        }
      ]
    },
    {
      "cell_type": "code",
      "source": [
        "fraud_count_depends_on_online.filter(F.col('fraud') == 1).show()"
      ],
      "metadata": {
        "colab": {
          "base_uri": "https://localhost:8080/"
        },
        "id": "ep6NT17zR_PT",
        "outputId": "0647e8d7-bc6a-4dc5-c322-9a645e6c9022"
      },
      "execution_count": 18,
      "outputs": [
        {
          "output_type": "stream",
          "name": "stdout",
          "text": [
            "+------------+-----+-----+\n",
            "|online_order|fraud|count|\n",
            "+------------+-----+-----+\n",
            "|           1|    1|82711|\n",
            "|           0|    1| 4692|\n",
            "+------------+-----+-----+\n",
            "\n"
          ]
        }
      ]
    },
    {
      "cell_type": "code",
      "source": [
        "fraud_count = spark_df.select('repeat_retailer','used_pin_number','online_order','fraud').groupBy('repeat_retailer','used_pin_number','online_order','fraud').agg(F.count('fraud').alias('count')).orderBy('fraud')\n",
        "fraud_count.show()"
      ],
      "metadata": {
        "colab": {
          "base_uri": "https://localhost:8080/"
        },
        "id": "I_WrGv2-W8Nx",
        "outputId": "27e4ab9d-dffc-47ca-d318-c2ff867d150a"
      },
      "execution_count": 19,
      "outputs": [
        {
          "output_type": "stream",
          "name": "stdout",
          "text": [
            "+---------------+---------------+------------+-----+------+\n",
            "|repeat_retailer|used_pin_number|online_order|fraud| count|\n",
            "+---------------+---------------+------------+-----+------+\n",
            "|              0|              0|           1|    0| 61308|\n",
            "|              1|              1|           0|    0| 31083|\n",
            "|              0|              1|           0|    0|  4115|\n",
            "|              0|              1|           1|    0|  7830|\n",
            "|              1|              1|           1|    0| 57307|\n",
            "|              1|              0|           1|    0|441396|\n",
            "|              1|              0|           0|    0|274825|\n",
            "|              0|              0|           0|    0| 34733|\n",
            "|              1|              0|           1|    1| 74442|\n",
            "|              1|              1|           1|    1|   258|\n",
            "|              0|              0|           1|    1|  7997|\n",
            "|              0|              1|           1|    1|    14|\n",
            "|              0|              0|           0|    1|  2467|\n",
            "|              1|              0|           0|    1|  2224|\n",
            "|              1|              1|           0|    1|     1|\n",
            "+---------------+---------------+------------+-----+------+\n",
            "\n"
          ]
        }
      ]
    },
    {
      "cell_type": "markdown",
      "source": [
        "Исходя из результатов, можно сказать, что\n",
        "\n",
        "1. Почти все операции, в которых использовался пин-код, являются не мошенническими.\n",
        "2. Большая часть мошеннических операций приходится на онлайн транзакции\n",
        "3. Больше всего мошеннических транзакций происходило в том случае, когда покупка совершалась онлайн у \"старого\" продавца, не используя пин-код\n",
        "4. И был всего один случай, когда покупка совершённая оффлайн у \"старого\" продавца, используя пин-код, считалась мошеннической. Быть может это была кража карты вместе с пин-кодом. Либо мошенник до этого знал пин-код к карте и ему оставалось лишь своровать карту."
      ],
      "metadata": {
        "id": "3mFBttlMRgAv"
      }
    },
    {
      "cell_type": "code",
      "source": [
        "def set_category(x):\n",
        "    if x < 2:\n",
        "      return \"normal\"\n",
        "    elif x < 4:\n",
        "      return \"medium\"\n",
        "    else:\n",
        "      return \"high\""
      ],
      "metadata": {
        "id": "ua_uQ7joaqfv"
      },
      "execution_count": 20,
      "outputs": []
    },
    {
      "cell_type": "code",
      "source": [
        "from pyspark.sql.types import StringType\n",
        "\n",
        "set_category_udf = F.udf(set_category, StringType())\n",
        "\n",
        "df_with_cateroties_of_ratio = spark_df.withColumn('Category',set_category_udf(F.col('ratio_to_median_purchase_price')))"
      ],
      "metadata": {
        "id": "fmUynBZracVT"
      },
      "execution_count": 21,
      "outputs": []
    },
    {
      "cell_type": "code",
      "source": [
        "df_with_cateroties_of_ratio.select('Category','fraud').groupBy('Category','fraud').agg(F.count('fraud').alias('count')).orderBy('fraud').show()"
      ],
      "metadata": {
        "colab": {
          "base_uri": "https://localhost:8080/"
        },
        "id": "nrCBCAf9bNjK",
        "outputId": "20626f43-91f2-4467-ac50-ee2103783a77"
      },
      "execution_count": 22,
      "outputs": [
        {
          "output_type": "stream",
          "name": "stdout",
          "text": [
            "+--------+-----+------+\n",
            "|Category|fraud| count|\n",
            "+--------+-----+------+\n",
            "|  medium|    0|156547|\n",
            "|  normal|    0|717841|\n",
            "|    high|    0| 38209|\n",
            "|  medium|    1|  4036|\n",
            "|  normal|    1| 18416|\n",
            "|    high|    1| 64951|\n",
            "+--------+-----+------+\n",
            "\n"
          ]
        }
      ]
    },
    {
      "cell_type": "markdown",
      "source": [
        "Больше всего мошеннических транзакций было произведено, когда отношение стоимости покупки к средней цене составляло более 4, меньше всего от 2 до 4. Это может быть связано с тем, что мошенники в большинстве случаев тратят чужие деньги на нечто крупное(по стоимости)."
      ],
      "metadata": {
        "id": "q_LorRN0fAjk"
      }
    },
    {
      "cell_type": "code",
      "source": [
        "def set_distance_category(x):\n",
        "    if x < 5:\n",
        "      return \"low\"\n",
        "    elif x < 40:\n",
        "      return \"normal\"\n",
        "    elif x < 100:\n",
        "      return \"medium\"\n",
        "    else:\n",
        "      return \"high\""
      ],
      "metadata": {
        "id": "I6jsqWrBfkhV"
      },
      "execution_count": 23,
      "outputs": []
    },
    {
      "cell_type": "code",
      "source": [
        "set_distance_category_udf = F.udf(set_distance_category, StringType())\n",
        "df_with_distance_from_home_category = spark_df.withColumn('distance_from_home_category',set_distance_category_udf(F.col('distance_from_home')))\n",
        "df_with_distance_from_home_category = df_with_distance_from_home_category.withColumn('distance_from_last_transaction_category',set_distance_category_udf(F.col('distance_from_last_transaction')))"
      ],
      "metadata": {
        "id": "464R0yCgfXcN"
      },
      "execution_count": 24,
      "outputs": []
    },
    {
      "cell_type": "code",
      "source": [
        "df_with_distance_from_home_category.select('distance_from_home_category','distance_from_last_transaction_category','fraud').groupBy('distance_from_home_category','distance_from_last_transaction_category','fraud').agg(F.count('fraud').alias('count')).orderBy('fraud').show(50)"
      ],
      "metadata": {
        "colab": {
          "base_uri": "https://localhost:8080/"
        },
        "id": "wp1OL5OMf8A7",
        "outputId": "fe986052-df20-492d-baac-a7ba6e0853fb"
      },
      "execution_count": 25,
      "outputs": [
        {
          "output_type": "stream",
          "name": "stdout",
          "text": [
            "+---------------------------+---------------------------------------+-----+------+\n",
            "|distance_from_home_category|distance_from_last_transaction_category|fraud| count|\n",
            "+---------------------------+---------------------------------------+-----+------+\n",
            "|                        low|                                 medium|    0|  2945|\n",
            "|                     normal|                                 normal|    0| 81800|\n",
            "|                     normal|                                 medium|    0|  5431|\n",
            "|                        low|                                    low|    0|236313|\n",
            "|                     normal|                                   high|    0|  1580|\n",
            "|                        low|                                   high|    0|   774|\n",
            "|                        low|                                 normal|    0| 47896|\n",
            "|                     medium|                                 medium|    0|  1202|\n",
            "|                       high|                                 medium|    0|   205|\n",
            "|                     medium|                                   high|    0|   344|\n",
            "|                     medium|                                 normal|    0| 17302|\n",
            "|                     medium|                                    low|    0| 85138|\n",
            "|                       high|                                 normal|    0|  4557|\n",
            "|                       high|                                   high|    0|    24|\n",
            "|                       high|                                    low|    0| 22796|\n",
            "|                     normal|                                    low|    0|404290|\n",
            "|                       high|                                 normal|    1|  3551|\n",
            "|                     normal|                                 medium|    1|  2326|\n",
            "|                     normal|                                   high|    1|  1210|\n",
            "|                        low|                                   high|    1|   833|\n",
            "|                        low|                                 medium|    1|  1630|\n",
            "|                       high|                                 medium|    1|   557|\n",
            "|                       high|                                   high|    1|   246|\n",
            "|                     medium|                                 normal|    1|  1087|\n",
            "|                     normal|                                 normal|    1|  5204|\n",
            "|                     medium|                                    low|    1|  5441|\n",
            "|                        low|                                 normal|    1|  3427|\n",
            "|                     medium|                                   high|    1|   249|\n",
            "|                        low|                                    low|    1| 17392|\n",
            "|                     normal|                                    low|    1| 25887|\n",
            "|                     medium|                                 medium|    1|   510|\n",
            "|                       high|                                    low|    1| 17853|\n",
            "+---------------------------+---------------------------------------+-----+------+\n",
            "\n"
          ]
        }
      ]
    },
    {
      "cell_type": "markdown",
      "source": [
        "Получилось, что больше всего мошеннических операций приходится на очень маленькие расстояния от последней покупки, но на разные расстояния от дома.\n",
        "\n",
        "Дополним датасет данными об онлайн и оффлайн транзакциях\n",
        "\n"
      ],
      "metadata": {
        "id": "2_lVjdNqB9cH"
      }
    },
    {
      "cell_type": "code",
      "source": [
        "df_with_distance_from_home_category\\\n",
        "                                    .select('distance_from_home_category','distance_from_last_transaction_category','online_order','fraud')\\\n",
        "                                    .groupBy('distance_from_home_category','distance_from_last_transaction_category','online_order','fraud')\\\n",
        "                                    .agg(F.count('fraud').alias('count'))\\\n",
        "                                    .orderBy('fraud')\\\n",
        "                                    .filter(F.col('fraud')==1)\\\n",
        "                                    .show(50)"
      ],
      "metadata": {
        "colab": {
          "base_uri": "https://localhost:8080/"
        },
        "id": "vTma9zK5Cp0e",
        "outputId": "81ee0beb-8e1a-4774-b8b3-a4444b2126a3"
      },
      "execution_count": 26,
      "outputs": [
        {
          "output_type": "stream",
          "name": "stdout",
          "text": [
            "+---------------------------+---------------------------------------+------------+-----+-----+\n",
            "|distance_from_home_category|distance_from_last_transaction_category|online_order|fraud|count|\n",
            "+---------------------------+---------------------------------------+------------+-----+-----+\n",
            "|                       high|                                 medium|           1|    1|  393|\n",
            "|                     normal|                                   high|           1|    1| 1121|\n",
            "|                     medium|                                   high|           1|    1|  229|\n",
            "|                       high|                                 normal|           1|    1| 3278|\n",
            "|                     medium|                                   high|           0|    1|   20|\n",
            "|                        low|                                 medium|           1|    1| 1524|\n",
            "|                        low|                                 normal|           1|    1| 3049|\n",
            "|                        low|                                    low|           1|    1|15366|\n",
            "|                        low|                                   high|           1|    1|  779|\n",
            "|                     medium|                                    low|           1|    1| 5441|\n",
            "|                        low|                                   high|           0|    1|   54|\n",
            "|                        low|                                    low|           0|    1| 2026|\n",
            "|                     medium|                                 medium|           0|    1|   36|\n",
            "|                     normal|                                 medium|           0|    1|  162|\n",
            "|                        low|                                 medium|           0|    1|  106|\n",
            "|                     medium|                                 normal|           1|    1| 1087|\n",
            "|                     medium|                                 medium|           1|    1|  474|\n",
            "|                       high|                                   high|           0|    1|   80|\n",
            "|                       high|                                 medium|           0|    1|  164|\n",
            "|                       high|                                    low|           0|    1| 1304|\n",
            "|                     normal|                                 normal|           1|    1| 5204|\n",
            "|                        low|                                 normal|           0|    1|  378|\n",
            "|                     normal|                                   high|           0|    1|   89|\n",
            "|                       high|                                   high|           1|    1|  166|\n",
            "|                     normal|                                 medium|           1|    1| 2164|\n",
            "|                       high|                                 normal|           0|    1|  273|\n",
            "|                     normal|                                    low|           1|    1|25887|\n",
            "|                       high|                                    low|           1|    1|16549|\n",
            "+---------------------------+---------------------------------------+------------+-----+-----+\n",
            "\n"
          ]
        }
      ]
    },
    {
      "cell_type": "markdown",
      "source": [
        "Теперь имеем более подходящую для анализа картину.\n",
        "\n",
        "Рассмотрим три самых больших по количеству моженнических транзакций. Как видно из таблицы это значения `25887` `16549` и `15366`\n",
        "\n",
        "Рассмотрим остальные характеристики этих значений. Все эти операции были сделаны онлайн. А теперь рассмотрим их по отдельности:\n",
        "\n",
        "1.  normal-low - то есть очень маленькое расстояние от последней транзакции и чуть большее от дома. Быть может мошенник находился в чертах одного города и совершил транзакцию где-то рядом с последней покупкой. Например: Человек О(обладатель карты) был в общественном месте, к примеру, в торговом центре вдали от дома. Человек М(Мошенник) увидел, как человек О расплачивался картой за еду. М успел сфотографировать данные карты и уехал из торгового центра на расстояние меньше 5 километров. М Совершил перевод с карты или оплатил покупку с этого места.\n",
        "\n",
        "2.  high-low - то есть очень маленькое расстояние от последней транзакции и большое от дома. Быть может М произвёл две транзакции. Одну транзакцию произвели \"для вида\". Показать, будто О находится в другом городе, далеко от своего дома. А вторую транзакцию М произвёл уже для того, чтобы украсть деньги или совершить большую покупку.\n",
        "\n",
        "3.  low-low - то есть очень маленькое расстояние от последней транзакции и от дома. В пределах маленького города очень даже реальная ситуация. Быть может даже М использовал прокси сервер таковой, что его местоположение почти совпало с адресом О. Даже если взять город радиусом 5 километров, а в центре размещён сервер, то в полне можно подтвердить данные значения по количеству мошеннических транзакций"
      ],
      "metadata": {
        "id": "2PZR-PyNK-d6"
      }
    },
    {
      "cell_type": "markdown",
      "source": [
        "## Создание, обучение и тестирование модели, используя PyTorch"
      ],
      "metadata": {
        "id": "Eo9ndJY9h1Ep"
      }
    },
    {
      "cell_type": "markdown",
      "source": [
        "### Обработка данных"
      ],
      "metadata": {
        "id": "cwNm-EaIYCBn"
      }
    },
    {
      "cell_type": "code",
      "source": [
        "value = df_ln['fraud'].value_counts()[1]/df_ln['fraud'].value_counts()[0]*100\n",
        "print(f'{round(value,1)}%')"
      ],
      "metadata": {
        "colab": {
          "base_uri": "https://localhost:8080/"
        },
        "id": "K_S1hSXmQu9q",
        "outputId": "a45ffdd7-6ac1-4763-b6ce-0f339f54b9c8"
      },
      "execution_count": 27,
      "outputs": [
        {
          "output_type": "stream",
          "name": "stdout",
          "text": [
            "9.6%\n"
          ]
        }
      ]
    },
    {
      "cell_type": "markdown",
      "source": [
        "Сами по себе данные не сбалансированы. Доля мошеннических операций составляет всего 9.6%\n",
        "\n",
        "Этого может не хватить, чтобы обучить модель правильно различать данные. Поэтому можно применить операцию `oversampling` над мошенническими транзакциями.\n",
        "\n",
        "Можно было пойти простым путём и просто дублировать транзакции, однако модель могла бы легко начать переобучаться, так как каждый раз может встречать одни и те же данные, а при встрече новых может не понять,что делать.\n",
        "\n",
        "Поэтому воспользуемся SMOTE(Synthetic Minority Oversampling Technique). То есть воспользуемся функцией, которая синтезирует новые мошеннические транзакции, опираясь на уже существующие. То есть выполнит аугментацию данных. Данные будут похожи на существующие, но не будут являться дубликатами."
      ],
      "metadata": {
        "id": "sdnss090Rqsi"
      }
    },
    {
      "cell_type": "code",
      "source": [
        "from imblearn.over_sampling import SMOTE\n",
        "\n",
        "data = df_ln.copy()\n",
        "# Разделяем на признаки и целевую переменную\n",
        "X = data.drop(columns=['fraud'])\n",
        "y = data['fraud']\n",
        "\n",
        "# Применяем SMOTE\n",
        "smote = SMOTE(random_state=42)\n",
        "X_resampled, y_resampled = smote.fit_resample(X, y)\n",
        "\n",
        "# Создаём новый DataFrame\n",
        "data_resampled = pd.concat([pd.DataFrame(X_resampled), pd.DataFrame(y_resampled, columns=['fraud'])], axis=1)"
      ],
      "metadata": {
        "id": "A5x45Qppg_Tf"
      },
      "execution_count": 28,
      "outputs": []
    },
    {
      "cell_type": "markdown",
      "source": [
        "### Создание модели"
      ],
      "metadata": {
        "id": "4LSnVXquX9OO"
      }
    },
    {
      "cell_type": "markdown",
      "source": [
        "После того, как данные для обучения были подготовлены, можно начинать создание модели."
      ],
      "metadata": {
        "id": "xmqB01oTTalJ"
      }
    },
    {
      "cell_type": "code",
      "source": [
        "import torch\n",
        "import torch.nn as nn\n",
        "import torch.optim as optim\n",
        "from torch.utils.data import DataLoader, Dataset\n",
        "import pandas as pd\n",
        "from sklearn.model_selection import train_test_split\n",
        "from sklearn.preprocessing import StandardScaler\n",
        "from sklearn.metrics import classification_report\n",
        "\n",
        "# Загрузка данных\n",
        "data = data_resampled.copy()\n",
        "\n",
        "# Разделение на фичи и целевую переменную\n",
        "X = data.drop(columns=[\"fraud\"])\n",
        "y = data[\"fraud\"]\n"
      ],
      "metadata": {
        "id": "3J7vYTEih0z0"
      },
      "execution_count": 29,
      "outputs": []
    },
    {
      "cell_type": "code",
      "source": [
        "# разделяем датасет на тренировочный и тестовый (метки отдельно)\n",
        "X_train, X_test, y_train, y_test = train_test_split(X, y, test_size=0.4, stratify=y, random_state=42)"
      ],
      "metadata": {
        "id": "hKIaY3KYhznI"
      },
      "execution_count": 30,
      "outputs": []
    },
    {
      "cell_type": "code",
      "source": [
        "# Стандартизируем данные(приводим их к нормальному виду)\n",
        "scaler = StandardScaler()\n",
        "X_train = scaler.fit_transform(X_train)\n",
        "X_test = scaler.transform(X_test)"
      ],
      "metadata": {
        "id": "-Ez_bfE0idvA"
      },
      "execution_count": 31,
      "outputs": []
    },
    {
      "cell_type": "code",
      "source": [
        "# Создаём класс для работы с датасетами PyTorch\n",
        "class TransactionDataset(Dataset):\n",
        "    def __init__(self, X, y):\n",
        "        # Переводим наши данные в тензоры, так как в PyTorch почти все операции происходят именно с ними\n",
        "        self.X = torch.tensor(X, dtype=torch.float32)\n",
        "        self.y = torch.tensor(y.values, dtype=torch.float32)\n",
        "\n",
        "    # Создаём метод для нахождения количества данных(количество строк)\n",
        "    def __len__(self):\n",
        "        return len(self.y)\n",
        "\n",
        "    # Создаём метод для получения i-ой строки\n",
        "    def __getitem__(self, idx):\n",
        "        return self.X[idx], self.y[idx]\n",
        "\n",
        "# Создаём объекты нашего класса, для последующей загрузки в DataLoader\n",
        "train_dataset = TransactionDataset(X_train, y_train)\n",
        "test_dataset = TransactionDataset(X_test, y_test)\n",
        "\n",
        "# Создаём лоадеры для тренировочного и тестового датасетов, чтобы данные могли подаваться порциями(батчами)\n",
        "train_loader = DataLoader(train_dataset, batch_size=64, shuffle=True) # Разрешаем перемешивание данных\n",
        "test_loader = DataLoader(test_dataset, batch_size=64, shuffle=False) # Запрещаем перемешивание данных"
      ],
      "metadata": {
        "id": "4xGUKx7uVDty"
      },
      "execution_count": 32,
      "outputs": []
    },
    {
      "cell_type": "code",
      "source": [
        "# Создаём нашу модель\n",
        "class FraudDetectionNN(nn.Module):\n",
        "    # Описываем структуру нашей модели\n",
        "    def __init__(self):\n",
        "        super(FraudDetectionNN, self).__init__()\n",
        "        # Модель будет состоять из 5 полносвязных слоёв. На каждом слояе, кроме выходного определим функцию ReLU, чтобы избавиться от отрицательных значений нейронов.\n",
        "        # А на последнем используем sigmoid, чтобы выдать вероятность предсказания.\n",
        "        self.layers = nn.Sequential(\n",
        "            nn.Linear(X_train.shape[1], 64),\n",
        "            nn.ReLU(),\n",
        "            nn.Linear(64, 32),\n",
        "            nn.ReLU(),\n",
        "            nn.Linear(32, 16),\n",
        "            nn.ReLU(),\n",
        "            nn.Linear(16, 8),\n",
        "            nn.ReLU(),\n",
        "            nn.Linear(8, 1),\n",
        "            nn.Sigmoid()\n",
        "        )\n",
        "\n",
        "    def forward(self, x):\n",
        "        return self.layers(x)\n",
        "\n",
        "# Объявляем модель и переносим её на графический процессор, если есть такая возможность\n",
        "model = FraudDetectionNN()\n",
        "device = torch.device(\"cuda\" if torch.cuda.is_available() else \"cpu\")\n",
        "model = model.to(device)\n",
        "print(device)"
      ],
      "metadata": {
        "id": "gyoa0E_PVENF",
        "colab": {
          "base_uri": "https://localhost:8080/"
        },
        "outputId": "358ae991-0b3a-44fe-a7ec-8b24762bad14"
      },
      "execution_count": 33,
      "outputs": [
        {
          "output_type": "stream",
          "name": "stdout",
          "text": [
            "cuda\n"
          ]
        }
      ]
    },
    {
      "cell_type": "code",
      "source": [
        "# Конвертируем данные из объекта y_train в тензор PyTorch с целочисленным типом данных\n",
        "y_train_tensor = torch.tensor(y_train.values, dtype=torch.long)"
      ],
      "metadata": {
        "id": "g6n4Vc2vVzRK"
      },
      "execution_count": 34,
      "outputs": []
    },
    {
      "cell_type": "code",
      "source": [
        "# Указываем функцию потерь (Binary-CrossEntropy loss) для бинарной классификации\n",
        "criterion = nn.BCELoss()\n",
        "# Указываем оптимизатор Adam, который адаптирует шаг обучения для каждого параметра модели на основе истории градиентов и их моментов (среднего и дисперсии)\n",
        "optimizer = optim.Adam(model.parameters(), lr=0.0001)"
      ],
      "metadata": {
        "id": "hociAKaGVEEx"
      },
      "execution_count": 35,
      "outputs": []
    },
    {
      "cell_type": "markdown",
      "source": [
        "### Обучение модели"
      ],
      "metadata": {
        "id": "gyC9Q7scYIdf"
      }
    },
    {
      "cell_type": "code",
      "source": [
        "# Задаём количество эпох\n",
        "epochs = 20\n",
        "# Переключаем модель в режим обучения\n",
        "model.train()\n",
        "\n",
        "for epoch in range(epochs):\n",
        "    # На каждой эпохе обнуляем ошибку\n",
        "    epoch_loss = 0\n",
        "    for X_batch, y_batch in train_loader:\n",
        "        # Переносим батчи на устройство(cuda или cpu)\n",
        "        X_batch, y_batch = X_batch.to(device), y_batch.to(device)\n",
        "        # Обнуляем градиенты, чтобы избежать их накопления\n",
        "        optimizer.zero_grad()\n",
        "        # Пропускаем батч через модель и убираем измерения с размерностью 1 (если такие имеются) во выходных данных\n",
        "        outputs = model(X_batch).squeeze()\n",
        "        # Считаем ошибку\n",
        "        loss = criterion(outputs, y_batch)\n",
        "        # Обратное распространение ошибок(вычисление градиентов)\n",
        "        loss.backward()\n",
        "        # Применение к параметрам модели вычисленных градиентов\n",
        "        optimizer.step()\n",
        "        # Суммирование ошибки\n",
        "        epoch_loss += loss.item()\n",
        "    # Выводим номер эпохи и значение функции потерь эпохи\n",
        "    print(f\"Epoch {epoch+1}/{epochs}, Loss: {epoch_loss/len(train_loader)}\")\n"
      ],
      "metadata": {
        "colab": {
          "base_uri": "https://localhost:8080/"
        },
        "id": "Jv5PPPTGV-p-",
        "outputId": "73202c3a-507a-40c2-cb5a-8fbb82004351"
      },
      "execution_count": 36,
      "outputs": [
        {
          "output_type": "stream",
          "name": "stdout",
          "text": [
            "Epoch 1/20, Loss: 0.20270767780583315\n",
            "Epoch 2/20, Loss: 0.04585201223685644\n",
            "Epoch 3/20, Loss: 0.039054277466485494\n",
            "Epoch 4/20, Loss: 0.03692179983232634\n",
            "Epoch 5/20, Loss: 0.035844742815947205\n",
            "Epoch 6/20, Loss: 0.035051856554767544\n",
            "Epoch 7/20, Loss: 0.034480242617706554\n",
            "Epoch 8/20, Loss: 0.03408105064783456\n",
            "Epoch 9/20, Loss: 0.03377669528413112\n",
            "Epoch 10/20, Loss: 0.03337092990448602\n",
            "Epoch 11/20, Loss: 0.03317251743891664\n",
            "Epoch 12/20, Loss: 0.033114603463497726\n",
            "Epoch 13/20, Loss: 0.032839007942681166\n",
            "Epoch 14/20, Loss: 0.03279801994160111\n",
            "Epoch 15/20, Loss: 0.03261319980853614\n",
            "Epoch 16/20, Loss: 0.032561672320907266\n",
            "Epoch 17/20, Loss: 0.03246155942105556\n",
            "Epoch 18/20, Loss: 0.03241183734113303\n",
            "Epoch 19/20, Loss: 0.03232367258187206\n",
            "Epoch 20/20, Loss: 0.032236243298839534\n"
          ]
        }
      ]
    },
    {
      "cell_type": "markdown",
      "source": [
        "### Тестирование модели"
      ],
      "metadata": {
        "id": "YRx-It5mYMJf"
      }
    },
    {
      "cell_type": "code",
      "source": [
        "# Переключаем модель в режим предсказания(тестирования)\n",
        "model.eval()\n",
        "y_pred = []\n",
        "y_true = []\n",
        "# Отключаем градиенты, чтобы сэкономить память\n",
        "with torch.no_grad():\n",
        "    for X_batch, y_batch in test_loader:\n",
        "        X_batch, y_batch = X_batch.to(device), y_batch.to(device)\n",
        "        outputs = model(X_batch).squeeze()\n",
        "        # Конвертируем предсказания в 1 или 0\n",
        "        y_pred.extend((outputs > 0.5).int().tolist())\n",
        "        # Конвертируем метки в 1 или 0\n",
        "        y_true.extend(y_batch.int().tolist())\n",
        "\n",
        "from sklearn.metrics import f1_score\n",
        "# Выводим статистику о предсказании модели\n",
        "print(classification_report(y_true, y_pred))"
      ],
      "metadata": {
        "colab": {
          "base_uri": "https://localhost:8080/"
        },
        "id": "gBN8yUidV-nX",
        "outputId": "7a0d733a-6c39-4652-9b17-a847a599a96c"
      },
      "execution_count": 37,
      "outputs": [
        {
          "output_type": "stream",
          "name": "stdout",
          "text": [
            "              precision    recall  f1-score   support\n",
            "\n",
            "           0       1.00      0.98      0.99    365039\n",
            "           1       0.98      1.00      0.99    365039\n",
            "\n",
            "    accuracy                           0.99    730078\n",
            "   macro avg       0.99      0.99      0.99    730078\n",
            "weighted avg       0.99      0.99      0.99    730078\n",
            "\n"
          ]
        }
      ]
    },
    {
      "cell_type": "markdown",
      "source": [
        "Модель очень хорошо себя показала на предсказании тестовых данных. Даже почти идеально предсказала. Точность составила 0.99"
      ],
      "metadata": {
        "id": "HX6i6g_2acg0"
      }
    },
    {
      "cell_type": "code",
      "source": [
        "# Отключаем градиенты, чтобы сэкономить память\n",
        "with torch.no_grad():\n",
        "    y_pred_probs = model(torch.tensor(X_test, dtype=torch.float32).to(device))\n",
        "    y_pred = (y_pred_probs >= 0.5).int()\n"
      ],
      "metadata": {
        "id": "6haT2AQrYxEb"
      },
      "execution_count": 38,
      "outputs": []
    },
    {
      "cell_type": "code",
      "source": [
        "from sklearn.metrics import confusion_matrix, ConfusionMatrixDisplay\n",
        "# Создаём матрицу ошибок, сравнивая истинные метки y_test с предсказаниями модели y_pred\n",
        "cm = confusion_matrix(y_test, y_pred.cpu().numpy())\n",
        "disp = ConfusionMatrixDisplay(confusion_matrix=cm, display_labels=[0, 1])\n",
        "# Выводим матрицу ошибок\n",
        "disp.plot();"
      ],
      "metadata": {
        "colab": {
          "base_uri": "https://localhost:8080/",
          "height": 449
        },
        "id": "C5yjpM4BV-e-",
        "outputId": "592c8e64-bdb4-4235-b1e0-3e258953a96b"
      },
      "execution_count": 39,
      "outputs": [
        {
          "output_type": "display_data",
          "data": {
            "text/plain": [
              "<Figure size 640x480 with 2 Axes>"
            ],
            "image/png": "[encoded data removed]"
          },
          "metadata": {}
        }
      ]
    },
    {
      "cell_type": "markdown",
      "source": [
        "Из матрицы видно, что модель очень хорошо стправляется с классификацией, но так же есть и ошибки, когда неверно предсказывает метку мошеннической операции."
      ],
      "metadata": {
        "id": "4S3PNnaEbJHC"
      }
    },
    {
      "cell_type": "markdown",
      "source": [
        "### Тестируем модель на придуманных ситуациях"
      ],
      "metadata": {
        "id": "hZ26JN_pcHYh"
      }
    },
    {
      "cell_type": "code",
      "source": [
        "# Создаём функцию для предсказания типа транзакции(мошенническая-1 или нет-0)\n",
        "def predict(new_data):\n",
        "    # Выполняем логорифмирование данных, чтобы улучшить их локализацию в пространстве\n",
        "    for row_index in range(len(new_data)):\n",
        "        new_data[row_index][:2] = list(map(lambda x: np.log(x), new_data[row_index][:2]))\n",
        "    # Конвертируем данные в тензор PyTorch\n",
        "    new_test = scaler.transform(new_data)\n",
        "    new_data_tensor = torch.tensor(new_test, dtype=torch.float32).to(device)\n",
        "    # Выполняем предсказание\n",
        "    with torch.no_grad():  # Выключаем градиенты\n",
        "        predictions = model(new_data_tensor).squeeze()  # Получаем вероятности\n",
        "        predicted_labels = (predictions >= 0.5).int()  # Преобразуем вероятности в классы (0 или 1)\n",
        "\n",
        "    # Выводим результаты\n",
        "    for i, (data, label, prob) in enumerate(zip(new_data, predicted_labels, predictions)):\n",
        "        print(f\"Пример {i + 1}: Данные: {data}, Вероятность мошенничества: {prob:.2f}, Метка: {label.item()}\")"
      ],
      "metadata": {
        "id": "8LQqLLdxdhcz"
      },
      "execution_count": 40,
      "outputs": []
    },
    {
      "cell_type": "markdown",
      "source": [
        "Смоделируем несколько ситуаций, чтобы проверить, как работает нейросеть. Иными словами, придумаем данные под какой-либо небольшой сюжет. Поймёт ли нейросеть класс транзакции\n",
        "\n",
        "- Случай 1:\n",
        "\n",
        "Пользователь карты уехал в другой город, в котором он уже когда-то бывал. В этом городе он поехал в магазин одежды, где уже покупал что-то не в первый раз. Решил купить там телевизор. При оплате он ввёл пин-код на терминале.\n",
        "\n",
        "Входные данные:\n",
        "\n",
        "Расстояние от дома: 50.3\n",
        "\n",
        "Расстояние от последней покупки: 51.6\n",
        "\n",
        "Отношение цены покупки к средней цене покупок: 2.3\n",
        "\n",
        "“Старый” продавец: да\n",
        "\n",
        "Использование пин-кода: да\n",
        "\n",
        "Онлайн покупка: нет\n",
        "\n",
        "\n",
        "- Случай 2:\n",
        "\n",
        "Пользователь карты, будучи на работе, решил заказать своей девушке доставку цветов. Не раз покупал у этого продавца цветы. При покупке в этом магазине у него всегда запрашивают пин-код карты.\n",
        "\n",
        "Входные данные:\n",
        "\n",
        "Расстояние от дома: 3.45\n",
        "\n",
        "Расстояние от последней покупки: 6.0\n",
        "\n",
        "Отношение цены покупки к средней цене покупок: 1.5\n",
        "\n",
        "“Старый” продавец: да\n",
        "\n",
        "Использование пин-кода: да\n",
        "\n",
        "Онлайн покупка: да\n",
        "\n",
        "\n",
        "- Случай 3:\n",
        "\n",
        "Пользователь карты находится в командировке в другом регионе. Во время поездки он решил заказать себе дорогой ноутбук в интернет-магазине, с которым он уже имел дело ранее. Однако через пару часов выясняется, что пользователь не совершал этой покупки. При проверке оказалось, что мошенники завладели данными карты и, зная привычки пользователя, сделали дорогостоящую покупку в знакомом магазине, чтобы не вызывать подозрений.\n",
        "\n",
        "Входные данные:\n",
        "\n",
        "Расстояние от дома: 500.10\n",
        "\n",
        "Расстояние от последней покупки: 100.3\n",
        "\n",
        "Отношение цены покупки к средней цене покупок: 3.5\n",
        "\n",
        "“Старый” продавец: да\n",
        "\n",
        "Использование пин-кода: да\n",
        "\n",
        "Онлайн покупка: да\n",
        "\n",
        "- Случай 4:\n",
        "\n",
        "Пользователь карты обнаружил списание за покупку ювелирного украшения в интернет-магазине. Ранее он никогда не совершал покупок у этого продавца, и цена оказалась значительно выше его средних трат. Расследование показало, что мошенники использовали данные карты для покупки дорогого товара в новом магазине, не введя пин-код, и выбрали доставку на адрес, не связанный с владельцем карты.\n",
        "\n",
        "Входные данные:\n",
        "\n",
        "Расстояние от дома: 100.05\n",
        "\n",
        "Расстояние от последней покупки: 120.0\n",
        "\n",
        "Отношение цены покупки к средней цене покупок: 5.0\n",
        "\n",
        "“Старый” продавец: нет\n",
        "\n",
        "Использование пин-кода: нет\n",
        "\n",
        "Онлайн покупка: да\n"
      ],
      "metadata": {
        "id": "uEFomrbUfVD3"
      }
    },
    {
      "cell_type": "code",
      "source": [
        "# Формируем входные данные\n",
        "new_data = [[50.3, 51.6, 2.3, 1, 1, 0],\n",
        "            [3.45, 6.0, 1.5, 1, 1, 1],\n",
        "            [500.10, 100.03, 3.5, 1 , 1 , 1],\n",
        "            [100.05, 120.0, 5.0, 0 , 0 , 1]]\n",
        "# Вызываем функцию для предсказания\n",
        "predict(new_data)"
      ],
      "metadata": {
        "colab": {
          "base_uri": "https://localhost:8080/"
        },
        "id": "fxMGN96krnMP",
        "outputId": "86eac487-30bf-4560-c71d-0dd88160ab50"
      },
      "execution_count": 41,
      "outputs": [
        {
          "output_type": "stream",
          "name": "stdout",
          "text": [
            "Пример 1: Данные: [3.9180050771056933, 3.9435216724875173, 2.3, 1, 1, 0], Вероятность мошенничества: 0.00, Метка: 0\n",
            "Пример 2: Данные: [1.2383742310432684, 1.791759469228055, 1.5, 1, 1, 1], Вероятность мошенничества: 0.00, Метка: 0\n",
            "Пример 3: Данные: [6.214808078424858, 4.605470140997089, 3.5, 1, 1, 1], Вероятность мошенничества: 1.00, Метка: 1\n",
            "Пример 4: Данные: [4.605670061029742, 4.787491742782046, 5.0, 0, 0, 1], Вероятность мошенничества: 1.00, Метка: 1\n"
          ]
        },
        {
          "output_type": "stream",
          "name": "stderr",
          "text": [
            "/usr/local/lib/python3.10/dist-packages/sklearn/base.py:493: UserWarning: X does not have valid feature names, but StandardScaler was fitted with feature names\n",
            "  warnings.warn(\n"
          ]
        }
      ]
    }
  ]
}